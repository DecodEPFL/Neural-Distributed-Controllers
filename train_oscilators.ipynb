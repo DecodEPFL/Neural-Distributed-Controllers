{
 "cells": [
  {
   "cell_type": "code",
   "execution_count": 162,
   "metadata": {},
   "outputs": [],
   "source": [
    "import torch \n",
    "from torch import nn\n",
    "import numpy as np\n",
    "from matplotlib import pyplot as plt\n",
    "\n",
    "from pytorch_lightning import LightningModule\n",
    "import pytorch_lightning as pl\n",
    "from torchdiffeq import odeint\n",
    "import time\n",
    "from torch.utils.data import Dataset\n",
    "from torch.utils.data import DataLoader\n",
    "import networkx as nx\n",
    "from utilities import *"
   ]
  },
  {
   "cell_type": "markdown",
   "metadata": {},
   "source": [
    "# Defining the closed-loop kuramoto "
   ]
  },
  {
   "cell_type": "code",
   "execution_count": 163,
   "metadata": {},
   "outputs": [],
   "source": [
    "class kuramoto_angular_closed_loop(nn.Module):  \n",
    "\n",
    "    def __init__(self,  adj_mat, coupling, n_nodes=4, natfreqs=None):\n",
    "        super(kuramoto_angular_closed_loop, self).__init__()\n",
    "        self.adj_mat = adj_mat\n",
    "        self.coupling = coupling\n",
    "        if natfreqs is not None:\n",
    "            self.natfreqs = natfreqs\n",
    "            self.n_nodes = len(natfreqs)\n",
    "        else:\n",
    "            self.n_nodes = n_nodes\n",
    "            self.natfreqs = torch.randn((self.n_nodes,1))\n",
    "\n",
    "        # Define controller parameters \n",
    "        self.act = nn.Tanh()\n",
    "        self.K = nn.Parameter(torch.rand(self.n_nodes,2,2))\n",
    "        self.b = nn.Parameter(torch.rand(self.n_nodes*2,1))\n",
    "        self.G = nn.Parameter(torch.rand(self.n_nodes*2,1)) \n",
    "        # self.G = (1/self.n_nodes)*torch.rand(self.n_nodes*2,1)\n",
    "        # self.g2 = torch.randn(2,1)\n",
    "        self.J_individual = torch.tensor([[0, -1],\n",
    "                               [1, 0 ,]]) \n",
    "        self.J = torch.kron(torch.eye(self.n_nodes),self.J_individual)\n",
    "        self.gamma = torch.rand(1,1)\n",
    "\n",
    "       \n",
    "   \n",
    "    def forward(self, t, x):\n",
    "\n",
    "\n",
    "        x_int, xi = x[0:self.n_nodes*2,:].clone(), x[self.n_nodes*2:,:].clone()\n",
    "        x_1, x_2 = x_int[0:self.n_nodes,:],  x_int[self.n_nodes:,:]\n",
    "\n",
    "        assert len(x) // 4 == len(self.natfreqs) == len(self.adj_mat), \\\n",
    "            'Input dimensions do not match, check lengths'\n",
    "       \n",
    "        # Dynamics of the Kuramoto Oscillators\n",
    "        angles_i, angles_j = torch.meshgrid(x_1.view(self.n_nodes), x_1.view(self.n_nodes), indexing=None)\n",
    "        x_i, x_j = torch.meshgrid(x_2.view(self.n_nodes), x_2.view(self.n_nodes), indexing=None)\n",
    "        g_ij = torch.cos(angles_j - angles_i)\n",
    "        x_ij = x_j - x_i\n",
    "        interactions = self.adj_mat * g_ij *  x_ij                  # Aij * sin(j-i)  *\n",
    "        \n",
    "        \n",
    "        # Control Law\n",
    "        G =  (10.0/self.n_nodes) * self.G.repeat(1,self.n_nodes)*torch.kron(self.adj_mat,torch.ones(2,1))\n",
    "        u = self.controller_output(xi)\n",
    "\n",
    "        dxdt = (self.coupling/self.n_nodes) * u * interactions.sum(axis=0).reshape(self.n_nodes,1) # sum over incoming interactions\n",
    "        \n",
    "\n",
    "        # Dynamics of the Hamiltonian controller\n",
    "        M2 = G @ G.T \n",
    "        self.gamma = 0.5*torch.max(torch.real(torch.linalg.eigvals(M2)).detach())\n",
    "        # self.gamma = 0.5\n",
    "        R_idv = (self.gamma) * torch.eye(2)  # Gamma for an individual plant\n",
    "        R = torch.kron(torch.eye(self.n_nodes),R_idv)\n",
    "        F = self.J - R\n",
    "        dxi_dt = F @ self.dH_dxi(xi) + G @ x_2\n",
    "        stacked_dxdt = torch.cat((x_2, dxdt), dim=0)\n",
    "        stacked_cl_loop = torch.cat((stacked_dxdt, dxi_dt), dim=0)\n",
    "        return stacked_cl_loop\n",
    "    \n",
    "    def dH_dxi(self,xi):\n",
    "        \"\"\"\n",
    "        Partial of the hamiltonian function of the controller. We consider the Hamiltonian to be seperated\n",
    "        \"\"\"\n",
    "        K = torch.block_diag(*self.K)\n",
    "        M = self.act(K @ xi + self.b) \n",
    "        return K.T @ M\n",
    "    \n",
    "    def controller_output(self,xi):\n",
    "        \"\"\"\n",
    "        This function returns the controller output\n",
    "        \"\"\"\n",
    "        G = self.G.repeat(1,self.n_nodes)*torch.kron(self.adj_mat,torch.ones(2,1))\n",
    "\n",
    "        u = -G.T @ self.dH_dxi(xi)\n",
    "  \n",
    "        return u"
   ]
  },
  {
   "cell_type": "markdown",
   "metadata": {},
   "source": [
    "# Defining the critical parameters and choosing the graph"
   ]
  },
  {
   "cell_type": "code",
   "execution_count": 164,
   "metadata": {},
   "outputs": [
    {
     "name": "stdout",
     "output_type": "stream",
     "text": [
      "torch.Size([64, 64])\n",
      "the coupling constant is tensor([5.9942])\n"
     ]
    }
   ],
   "source": [
    "Adjacency_matrix = generate_square_lattice(side_size = 8, seed=1) \n",
    "print(Adjacency_matrix.shape)\n",
    "endtime = 3.0\n",
    "tol = 1e-7\n",
    "N_nodes = Adjacency_matrix.shape[0]\n",
    "\n",
    "# Defining the closed-loop oscillators\n",
    "natural_frequencies = torch.empty([N_nodes])\\\n",
    "                               .normal_(mean=0, std=0.2)\n",
    "\n",
    "\n",
    "critical_coupling_constant = calculate_critical_coupling_constant(Adjacency_matrix, natural_frequencies)\n",
    "coupling_constant = 0.1*critical_coupling_constant\n",
    "print(\"the coupling constant is\", coupling_constant)"
   ]
  },
  {
   "cell_type": "code",
   "execution_count": 165,
   "metadata": {},
   "outputs": [],
   "source": [
    "class ODEBlock(nn.Module):\n",
    "\n",
    "    def __init__(self, odefunc):\n",
    "        super(ODEBlock, self).__init__()\n",
    "        self.odefunc = odefunc\n",
    "        self.integration_time = torch.tensor([0, endtime]).float()\n",
    "        self.time = torch.linspace(0,endtime,int(300*endtime))\n",
    "\n",
    "    def node_propagation(self,x): \n",
    "        out = odeint(self.odefunc, x, self.time, rtol=tol, atol=tol, method=\"euler\")\n",
    "        return out\n",
    "\n",
    "    def forward(self,x):\n",
    "        self.integration_time = self.integration_time.type_as(x)\n",
    "        out = odeint(self.odefunc, x, self.integration_time, rtol=tol, atol=tol, method=\"euler\")\n",
    "        return out[1]   "
   ]
  },
  {
   "cell_type": "code",
   "execution_count": 166,
   "metadata": {},
   "outputs": [
    {
     "data": {
      "image/png": "[encoded data removed]",
      "text/plain": [
       "<Figure size 640x480 with 1 Axes>"
      ]
     },
     "metadata": {},
     "output_type": "display_data"
    }
   ],
   "source": [
    "\n",
    "coupling_constant = 0.1\n",
    "odefunc = kuramoto_angular_closed_loop(adj_mat= Adjacency_matrix, coupling = coupling_constant , n_nodes=N_nodes, natfreqs=natural_frequencies)\n",
    "\n",
    "\n",
    "\n",
    "x0= torch.cat((torch.randn(N_nodes*2,1)*0.1, \n",
    "                           torch.zeros(N_nodes*2,1)), dim=0)\n",
    "# for testing purposes\n",
    "tol = 1e-7\n",
    "endtime = 3\n",
    "t = torch.linspace(0., endtime, 200*endtime)\n",
    "out = odeint(odefunc, x0, t, method=\"euler\")\n",
    "\n",
    "out_r = out[:,N_nodes:-1].squeeze(-1)\n",
    "n = out_r.shape[-1]\n",
    "diff = torch.cos(out_r.unsqueeze(-1) - out_r.unsqueeze(-2))\n",
    "sum_diff = (diff).sum(-1).sum(-1)\n",
    "r = (1 / n) * (sum_diff ** (1 / 2))\n",
    "\n",
    "plt.figure(1)\n",
    "plt.plot(t, r.detach().numpy())\n",
    "plt.ylabel('r(t)')\n",
    "plt.xlabel('t(secs)')\n",
    "plt.savefig(\"/home/mzakwan/TAC2023/Karutomo_Oscilators/r_distributed_without_train.pdf\")\n",
    "plt.show()"
   ]
  },
  {
   "cell_type": "code",
   "execution_count": 167,
   "metadata": {},
   "outputs": [],
   "source": [
    "model = ODEBlock(odefunc)\n",
    "\n",
    "class ImageClassifier_global(LightningModule):\n",
    "        def __init__(self):\n",
    "            super().__init__()\n",
    "            self.save_hyperparameters()\n",
    "            self.net = model\n",
    "            self.adj_mat = Adjacency_matrix\n",
    "            self.n_nodes = Adjacency_matrix.shape[0]\n",
    "            self.reg_weight = 1e-7\n",
    "            \n",
    "        def forward(self,x):\n",
    "            return self.net(x)\n",
    "        \n",
    "        def calculate_loss(self, x):\n",
    "            x_i, x_j = torch.meshgrid(x.view(self.n_nodes), x.view(self.n_nodes), indexing=None)\n",
    "            diff = x_j-x_i # create the difference of x_j - x_i in each row element\n",
    "            sin_sqr_diff   =  torch.sin(diff)**2\n",
    "            adjacency_mult = self.adj_mat*sin_sqr_diff\n",
    "            loss = adjacency_mult.sum() # sum over i and j\n",
    "            return loss\n",
    "        \n",
    "\n",
    "        def training_step(self, batch, batch_idx):\n",
    "            \n",
    "            \n",
    "            # x_long = self.net.node_propagation(x0).squeeze(-1)\n",
    "            # print(x_long.shape)\n",
    "            # print(x_long[-1,:])\n",
    "            # print(self.forward(x0).shape)\n",
    "            # print(self.forward(x0))\n",
    "\n",
    "            xloss = self.forward(x0)\n",
    "            x, xi = xloss[0:self.n_nodes*2].clone(), xloss[self.n_nodes*2:].clone()\n",
    "            x_2 = x[self.n_nodes:]\n",
    "            u_ctrl = self.net.odefunc.controller_output(xi.reshape( self.n_nodes*2,1))\n",
    "            loss_int = (1.0/self.n_nodes)*self.calculate_loss(x_2) + (0.5)*self.reg_weight*torch.norm(u_ctrl,2)\n",
    "            loss = loss_int\n",
    "            # print(x.shape)\n",
    "            # x_2 = x[self.n_nodes:]\n",
    "            # loss_int = (1.0/self.n_nodes)*self.calculate_loss(x_2)\n",
    "\n",
    "\n",
    "            # cumm_loss = 0.0\n",
    "            # for idx in range(0,x_long.shape[0]):\n",
    "            #     xloss = x_long[idx,:]\n",
    "            #     x, xi = xloss[0:self.n_nodes*2].clone(), xloss[self.n_nodes*2:].clone()\n",
    "            #     print(x.shape)\n",
    "            #     x_2 = x[self.n_nodes:]\n",
    "            #     u_ctrl = self.net.odefunc.controller_output(xi.reshape( self.n_nodes*2,1))\n",
    "            #     loss_int = (1.0/self.n_nodes)*self.calculate_loss(x_2) + (0.5/self.n_nodes)*self.reg_weight*torch.norm(u_ctrl,2)\n",
    "            #     cumm_loss += loss_int\n",
    "            \n",
    "            # loss = cumm_loss.mean() \n",
    "            # loss = 0\n",
    "            self.log(\"total_loss\", loss, prog_bar=True)\n",
    "\n",
    "            return loss\n",
    "            \n",
    "\n",
    "        def configure_optimizers(self):\n",
    "            optimizer = torch.optim.Adam(self.net.parameters(), lr=1e-2, eps=1e-3, amsgrad=True)\n",
    "            return optimizer"
   ]
  },
  {
   "cell_type": "code",
   "execution_count": 168,
   "metadata": {},
   "outputs": [
    {
     "name": "stderr",
     "output_type": "stream",
     "text": [
      "GPU available: True (cuda), used: False\n",
      "TPU available: False, using: 0 TPU cores\n",
      "IPU available: False, using: 0 IPUs\n"
     ]
    },
    {
     "name": "stderr",
     "output_type": "stream",
     "text": [
      "HPU available: False, using: 0 HPUs\n",
      "/home/mzakwan/.local/lib/python3.8/site-packages/pytorch_lightning/trainer/setup.py:176: PossibleUserWarning: GPU available but not used. Set `accelerator` and `devices` using `Trainer(accelerator='gpu', devices=4)`.\n",
      "  rank_zero_warn(\n",
      "\n",
      "  | Name | Type     | Params\n",
      "----------------------------------\n",
      "0 | net  | ODEBlock | 512   \n",
      "----------------------------------\n",
      "512       Trainable params\n",
      "0         Non-trainable params\n",
      "512       Total params\n",
      "0.002     Total estimated model params size (MB)\n",
      "/home/mzakwan/.local/lib/python3.8/site-packages/pytorch_lightning/loops/fit_loop.py:280: PossibleUserWarning: The number of training batches (1) is smaller than the logging interval Trainer(log_every_n_steps=50). Set a lower value for log_every_n_steps if you want to see logs for the training epoch.\n",
      "  rank_zero_warn(\n"
     ]
    },
    {
     "data": {
      "application/json": {
       "ascii": false,
       "bar_format": null,
       "colour": null,
       "elapsed": 0.008416891098022461,
       "initial": 0,
       "n": 0,
       "ncols": null,
       "nrows": null,
       "postfix": null,
       "prefix": "Training",
       "rate": null,
       "total": null,
       "unit": "it",
       "unit_divisor": 1000,
       "unit_scale": false
      },
      "application/vnd.jupyter.widget-view+json": {
       "model_id": "819707abbabe491aa80923f3e44a2301",
       "version_major": 2,
       "version_minor": 0
      },
      "text/plain": [
       "Training: 0it [00:00, ?it/s]"
      ]
     },
     "metadata": {},
     "output_type": "display_data"
    },
    {
     "name": "stderr",
     "output_type": "stream",
     "text": [
      "`Trainer.fit` stopped: `max_epochs=2000` reached.\n"
     ]
    }
   ],
   "source": [
    "class TrainDataset(Dataset):\n",
    "    def __init__(self, q_range, p_range):\n",
    "\n",
    "        grid_q, grid_p = torch.meshgrid(\n",
    "            q_range, p_range)\n",
    "\n",
    "        self.q_data = grid_q.reshape(-1,)\n",
    "        self.p_data = grid_p.reshape(-1,)\n",
    "\n",
    "    def __len__(self):\n",
    "        return len(self.q_data)\n",
    "\n",
    "    def __getitem__(self, idx):\n",
    "\n",
    "        return self.q_data[idx], self.p_data[idx]\n",
    "    \n",
    "\n",
    "training_data = TrainDataset(\n",
    "        torch.linspace(1/4-2, 1/4+2, 1), torch.linspace(-2, 2, 1))\n",
    "\n",
    "train_dataloader = DataLoader(\n",
    "    training_data, batch_size=1, num_workers=30, persistent_workers=True)\n",
    "\n",
    "\n",
    "torch.set_float32_matmul_precision('medium')\n",
    "    \n",
    "\n",
    "#Defining the logger \n",
    "model_ode = ImageClassifier_global()\n",
    "\n",
    "trainer = pl.Trainer(\n",
    "    max_epochs=2000,\n",
    "    accelerator='cpu',\n",
    "    num_nodes=1,\n",
    ")\n",
    "\n",
    "trainer.fit(model_ode, train_dataloader)\n",
    "trainer.save_checkpoint(\n",
    "        \"/home/mzakwan/TAC2023/Karutomo_Oscilators/test_lightning_model.ckpt\")\n",
    "time.sleep(5)"
   ]
  },
  {
   "cell_type": "markdown",
   "metadata": {},
   "source": [
    "## Simulations"
   ]
  },
  {
   "cell_type": "code",
   "execution_count": 169,
   "metadata": {},
   "outputs": [
    {
     "data": {
      "image/png": "[encoded data removed]",
      "text/plain": [
       "<Figure size 640x480 with 1 Axes>"
      ]
     },
     "metadata": {},
     "output_type": "display_data"
    },
    {
     "data": {
      "image/png": "[encoded data removed]",
      "text/plain": [
       "<Figure size 640x480 with 1 Axes>"
      ]
     },
     "metadata": {},
     "output_type": "display_data"
    }
   ],
   "source": [
    "endtime = 3.0\n",
    "endtime = endtime \n",
    "\n",
    "t = torch.linspace(0., endtime, int(200*endtime))\n",
    "out = odeint(odefunc, x0, t, method=\"euler\")\n",
    "\n",
    "out = out.squeeze(-1)\n",
    "x, out_ctrl = out[:,0:N_nodes*2].clone(), out[:, N_nodes*2:].clone()\n",
    "out_r = x[:, N_nodes:]\n",
    "    \n",
    "u_ctrl = model.odefunc.controller_output(out_ctrl.T)\n",
    "# print(u_ctrl.shape)\n",
    "n = out_r.shape[-1]\n",
    "diff = torch.cos(out_r.unsqueeze(-1) - out_r.unsqueeze(-2))\n",
    "sum_diff = (diff).sum(-1).sum(-1)\n",
    "r = (1 / n) * (sum_diff ** (1 / 2))\n",
    "\n",
    "plt.figure(2)\n",
    "plt.plot(t, r.detach().numpy())\n",
    "plt.ylabel('r(t)')\n",
    "plt.xlabel('t(secs)')\n",
    "plt.savefig(\"/home/mzakwan/TAC2023/Karutomo_Oscilators/r_closed_loop_distributed.pdf\")\n",
    "\n",
    "plt.figure(3)\n",
    "plt.plot(t,-u_ctrl.T.detach().numpy())\n",
    "plt.ylabel('control input')\n",
    "plt.xlabel('t (secs)')\n",
    "plt.savefig(\"/home/mzakwan/TAC2023/Karutomo_Oscilators/u_closed_loop_distributed.pdf\")"
   ]
  }
 ],
 "metadata": {
  "kernelspec": {
   "display_name": "Python 3",
   "language": "python",
   "name": "python3"
  },
  "language_info": {
   "codemirror_mode": {
    "name": "ipython",
    "version": 3
   },
   "file_extension": ".py",
   "mimetype": "text/x-python",
   "name": "python",
   "nbconvert_exporter": "python",
   "pygments_lexer": "ipython3",
   "version": "3.8.10"
  },
  "orig_nbformat": 4
 },
 "nbformat": 4,
 "nbformat_minor": 2
}
